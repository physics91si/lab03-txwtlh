{
 "cells": [
  {
   "cell_type": "markdown",
   "metadata": {},
   "source": [
    "# Physics 91SI: Lab 3\n",
    "\n",
    "Part 1\n",
    "------"
   ]
  },
  {
   "cell_type": "code",
   "execution_count": null,
   "metadata": {},
   "outputs": [],
   "source": [
    "# Don't edit this function\n",
    "def load_sample():\n",
    "    \"\"\"Return the entire text of Hamlet in a string.\"\"\"\n",
    "    with open('hamlet.txt') as f:\n",
    "        sample = f.read()\n",
    "    return sample"
   ]
  },
  {
   "cell_type": "code",
   "execution_count": null,
   "metadata": {},
   "outputs": [],
   "source": [
    "import string\n",
    "# Edit this function. \"pass\" tells Python to do nothing.\n",
    "def parse_sample(text, words_only=False, sort_list=False):\n",
    "    text = text.replace(\"-\", \" \")\n",
    "    words = text.split()\n",
    "    if words_only:\n",
    "        for index, word in enumerate(words):\n",
    "            words[index] = word.lower().strip(string.punctuation)\n",
    "    if sort_list:\n",
    "        words.sort()\n",
    "    return words"
   ]
  },
  {
   "cell_type": "code",
   "execution_count": null,
   "metadata": {
    "scrolled": true
   },
   "outputs": [],
   "source": [
    "hamlet = load_sample()\n",
    "word_list = parse_sample(hamlet, True, True)\n",
    "print(word_list)"
   ]
  },
  {
   "cell_type": "markdown",
   "metadata": {},
   "source": [
    "Part 2\n",
    "------"
   ]
  },
  {
   "cell_type": "code",
   "execution_count": null,
   "metadata": {},
   "outputs": [],
   "source": [
    "import statistics\n",
    "\n",
    "def count_freq(lst):\n",
    "    \"\"\"Return a dict of word frequencies given a list of words.\n",
    "    \n",
    "    Arguments:\n",
    "    -- lst: a list of strings\n",
    "    \n",
    "    Returns:\n",
    "    -- freq_dict: a dictionary of word: frequency pairs. The keys are strings\n",
    "       containing the words, and the values are integers indicating how many\n",
    "       times each word appears.\n",
    "    \n",
    "    Example:\n",
    "    >>> count_freq(['time', 'after', 'time'])\n",
    "    {'time': 2, 'after': 1}\n",
    "    \"\"\"\n",
    "    freq_dict = {}\n",
    "    for x in lst:\n",
    "        if x in freq_dict:\n",
    "            freq_dict[x] += 1\n",
    "        elif x != \"\":\n",
    "            freq_dict[x] = 1\n",
    "    return freq_dict\n",
    "\n",
    "def mean(lst):\n",
    "    \"\"\"Return the arithmetic mean of a list of numbers.\"\"\"\n",
    "    return statistics.mean(lst)\n",
    "\n",
    "def stdev(lst):\n",
    "    \"\"\"Return the standard deviation of a list of numbers.\"\"\"\n",
    "    return statistics.stdev(lst)\n",
    "\n",
    "def median(lst):\n",
    "    \"\"\"Return the median of a list of numbers.\"\"\"\n",
    "    return statistics.median(lst)"
   ]
  },
  {
   "cell_type": "code",
   "execution_count": null,
   "metadata": {
    "scrolled": true
   },
   "outputs": [],
   "source": [
    "frequencies = count_freq(word_list)\n",
    "print(\"Distinct words: \" + str(len(frequencies)))\n",
    "print(\"Each distinct word shows up approximately \" + str(mean(frequencies.values())) + \" times\")"
   ]
  },
  {
   "cell_type": "markdown",
   "metadata": {},
   "source": [
    "Part 3\n",
    "------"
   ]
  },
  {
   "cell_type": "code",
   "execution_count": null,
   "metadata": {},
   "outputs": [],
   "source": [
    "def print_stats(lst):\n",
    "    \"\"\"Print common statistics about the word frequencies of a list of words.\"\"\"\n",
    "    s = input(\"Do you want to sort alphabetically (a) or by frequency (f)? \")\n",
    "    freq_table = count_freq(lst)\n",
    "    if s == \"a\":\n",
    "        for word in sorted(freq_table):\n",
    "            print(word + \": \" + str(freq_table[word]))\n",
    "    elif s == \"f\":\n",
    "        for frequency in sorted(freq_table, key=freq_table.get, reverse=True):\n",
    "            print(frequency + \": \" + str(freq_table[frequency]))\n",
    "    else:\n",
    "        print(\"Sorry, invalid input.\\nExiting...\")"
   ]
  },
  {
   "cell_type": "code",
   "execution_count": null,
   "metadata": {},
   "outputs": [],
   "source": [
    "print_stats(word_list)"
   ]
  }
 ],
 "metadata": {
  "kernelspec": {
   "display_name": "Python 3",
   "language": "python",
   "name": "python3"
  },
  "language_info": {
   "codemirror_mode": {
    "name": "ipython",
    "version": 3
   },
   "file_extension": ".py",
   "mimetype": "text/x-python",
   "name": "python",
   "nbconvert_exporter": "python",
   "pygments_lexer": "ipython3",
   "version": "3.6.4"
  }
 },
 "nbformat": 4,
 "nbformat_minor": 1
}
